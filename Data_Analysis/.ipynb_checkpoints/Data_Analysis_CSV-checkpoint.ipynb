{
 "cells": [
  {
   "cell_type": "markdown",
   "metadata": {
    "hide_input": false
   },
   "source": [
    "<font size=25px><tt><b>Data Analysis: CSV File</b></tt></font>"
   ]
  },
  {
   "cell_type": "markdown",
   "metadata": {},
   "source": [
    "In this file we analyze data from the file data_cleanest.csv. The data consists of a cleaned up version of all the mindreader games that were played from an old launch."
   ]
  },
  {
   "cell_type": "markdown",
   "metadata": {
    "heading_collapsed": true
   },
   "source": [
    "# Setup Dataset\n",
    "\n",
    "We import stuff, run basic data summary statistics, and create low level variables that are used later.\n",
    "\n",
    "**Key Variables Created :** <font color=\"gray\">(indices correspond to those in data)</font>\n",
    "* <font color=\"magenta\">data : </font> A pandas dataframe of the complete dataset being used\n",
    "\n",
    "\n",
    "\n",
    "* <font color=\"blue\">movesPlayer : </font> List of each player's moves for each game\n",
    "* <font color=\"blue\">movesComp : </font> List of computer's move for each game\n",
    "* <font color=\"blue\">times : </font> List of times between each moves for each game "
   ]
  },
  {
   "cell_type": "markdown",
   "metadata": {
    "heading_collapsed": true,
    "hidden": true
   },
   "source": [
    "## Import Stuff"
   ]
  },
  {
   "cell_type": "markdown",
   "metadata": {
    "hidden": true
   },
   "source": [
    "* we install all necessary packages:"
   ]
  },
  {
   "cell_type": "code",
   "execution_count": 1,
   "metadata": {
    "code_folding": [
     0
    ],
    "collapsed": true,
    "hidden": true,
    "hide_input": false,
    "init_cell": true
   },
   "outputs": [],
   "source": [
    "# this cell imports packages\n",
    "import sys\n",
    "import numpy as np\n",
    "import scipy as sp\n",
    "from scipy import stats\n",
    "import pandas as pd\n",
    "import matplotlib.pyplot as plt\n",
    "from py_mini_racer import py_mini_racer\n",
    "%matplotlib inline"
   ]
  },
  {
   "cell_type": "code",
   "execution_count": 2,
   "metadata": {
    "code_folding": [
     0
    ],
    "collapsed": true,
    "hidden": true
   },
   "outputs": [],
   "source": [
    "# this cell imports packages for ipywidgets\n",
    "import ipywidgets as widgets\n",
    "from IPython.display import display\n",
    "from ipywidgets import interact, interactive, fixed, interact_manual, IntSlider\n",
    "from IPython.display import display"
   ]
  },
  {
   "cell_type": "markdown",
   "metadata": {
    "collapsed": true,
    "hidden": true
   },
   "source": [
    "* we load in data as pandas dataframe:"
   ]
  },
  {
   "cell_type": "code",
   "execution_count": 3,
   "metadata": {
    "collapsed": true,
    "hidden": true,
    "hide_input": false,
    "init_cell": true
   },
   "outputs": [],
   "source": [
    "data = pd.read_csv(\"data_clean.csv\")"
   ]
  },
  {
   "cell_type": "markdown",
   "metadata": {
    "heading_collapsed": true,
    "hidden": true
   },
   "source": [
    "## Fast Data Summary"
   ]
  },
  {
   "cell_type": "code",
   "execution_count": 4,
   "metadata": {
    "hidden": true,
    "init_cell": true
   },
   "outputs": [
    {
     "data": {
      "text/plain": [
       "(7925, 13)"
      ]
     },
     "execution_count": 4,
     "metadata": {},
     "output_type": "execute_result"
    }
   ],
   "source": [
    "data.shape"
   ]
  },
  {
   "cell_type": "code",
   "execution_count": 5,
   "metadata": {
    "hidden": true,
    "init_cell": true
   },
   "outputs": [
    {
     "name": "stdout",
     "output_type": "stream",
     "text": [
      "['date' 'mode' 'experts' 'username' 'result' 'score' 'ip' 'movesPlayer'\n",
      " 'movesComp' 'times' 'totMoves' 'totTime' 'avgTime']\n"
     ]
    }
   ],
   "source": [
    "print data.columns.values"
   ]
  },
  {
   "cell_type": "code",
   "execution_count": 6,
   "metadata": {
    "hidden": true,
    "hide_input": false,
    "init_cell": true
   },
   "outputs": [
    {
     "data": {
      "text/html": [
       "<div>\n",
       "<style scoped>\n",
       "    .dataframe tbody tr th:only-of-type {\n",
       "        vertical-align: middle;\n",
       "    }\n",
       "\n",
       "    .dataframe tbody tr th {\n",
       "        vertical-align: top;\n",
       "    }\n",
       "\n",
       "    .dataframe thead th {\n",
       "        text-align: right;\n",
       "    }\n",
       "</style>\n",
       "<table border=\"1\" class=\"dataframe\">\n",
       "  <thead>\n",
       "    <tr style=\"text-align: right;\">\n",
       "      <th></th>\n",
       "      <th>date</th>\n",
       "      <th>mode</th>\n",
       "      <th>experts</th>\n",
       "      <th>username</th>\n",
       "      <th>result</th>\n",
       "      <th>score</th>\n",
       "      <th>ip</th>\n",
       "      <th>movesPlayer</th>\n",
       "      <th>movesComp</th>\n",
       "      <th>times</th>\n",
       "      <th>totMoves</th>\n",
       "      <th>totTime</th>\n",
       "      <th>avgTime</th>\n",
       "    </tr>\n",
       "  </thead>\n",
       "  <tbody>\n",
       "    <tr>\n",
       "      <th>0</th>\n",
       "      <td>0</td>\n",
       "      <td>original</td>\n",
       "      <td>[u'varTreePY', u'varTreeY']</td>\n",
       "      <td>anonymous</td>\n",
       "      <td>Restart</td>\n",
       "      <td>-6</td>\n",
       "      <td>208.54.39.129</td>\n",
       "      <td>[1L, 0L, 1L, 0L, 1L, 1L, 0L, 1L, 0L, 0L, 1L, 0...</td>\n",
       "      <td>[1L, 1L, 1L, 0L, 1L, 0L, 0L, 1L, 0L, 1L, 1L, 0...</td>\n",
       "      <td>[1453330325603L, 1453330325828L, 1453330326038...</td>\n",
       "      <td>20</td>\n",
       "      <td>282.86</td>\n",
       "      <td>14.143000</td>\n",
       "    </tr>\n",
       "    <tr>\n",
       "      <th>1</th>\n",
       "      <td>0</td>\n",
       "      <td>original</td>\n",
       "      <td>[u'varTreePY', u'varTreeY']</td>\n",
       "      <td>elaaaaaaaaaaa</td>\n",
       "      <td>Restart</td>\n",
       "      <td>-24</td>\n",
       "      <td>209.2.221.197</td>\n",
       "      <td>[1L, 1L, 1L, 1L, 0L, 1L, 1L, 0L, 0L, 0L, 0L, 0...</td>\n",
       "      <td>[1L, 0L, 1L, 0L, 1L, 0L, 0L, 0L, 0L, 0L, 1L, 1...</td>\n",
       "      <td>[1453337692341L, 1453337699155L, 1453337710785...</td>\n",
       "      <td>58</td>\n",
       "      <td>877.56</td>\n",
       "      <td>15.130345</td>\n",
       "    </tr>\n",
       "    <tr>\n",
       "      <th>2</th>\n",
       "      <td>0</td>\n",
       "      <td>original</td>\n",
       "      <td>[u'varTreePY', u'varTreeY']</td>\n",
       "      <td>adasdasdasdasdasd</td>\n",
       "      <td>Restart</td>\n",
       "      <td>-16</td>\n",
       "      <td>209.2.221.197</td>\n",
       "      <td>[1L, 0L, 0L, 0L, 0L, 0L, 0L, 0L, 0L, 0L, 0L, 0...</td>\n",
       "      <td>[0L, 0L, 0L, 0L, 1L, 0L, 0L, 0L, 0L, 0L, 0L, 0...</td>\n",
       "      <td>[1453337970979L, 1453337972428L, 1453337976487...</td>\n",
       "      <td>20</td>\n",
       "      <td>88.87</td>\n",
       "      <td>4.443500</td>\n",
       "    </tr>\n",
       "    <tr>\n",
       "      <th>3</th>\n",
       "      <td>0</td>\n",
       "      <td>original</td>\n",
       "      <td>[u'varTreePY', u'varTreeY']</td>\n",
       "      <td>aosdkoakdoakdoaskd</td>\n",
       "      <td>Restart</td>\n",
       "      <td>-2</td>\n",
       "      <td>209.2.221.197</td>\n",
       "      <td>[1L, 0L, 0L, 0L]</td>\n",
       "      <td>[0L, 0L, 0L, 0L]</td>\n",
       "      <td>[1453339729701L, 1453339732436L, 1453339735087...</td>\n",
       "      <td>4</td>\n",
       "      <td>64.74</td>\n",
       "      <td>16.185000</td>\n",
       "    </tr>\n",
       "    <tr>\n",
       "      <th>4</th>\n",
       "      <td>0</td>\n",
       "      <td>original</td>\n",
       "      <td>[u'varTreePY', u'varTreeY']</td>\n",
       "      <td>anonymous</td>\n",
       "      <td>Restart</td>\n",
       "      <td>1</td>\n",
       "      <td>209.2.221.197</td>\n",
       "      <td>[3L]</td>\n",
       "      <td>[3L]</td>\n",
       "      <td>[1453339751744L]</td>\n",
       "      <td>1</td>\n",
       "      <td>0.00</td>\n",
       "      <td>0.000000</td>\n",
       "    </tr>\n",
       "  </tbody>\n",
       "</table>\n",
       "</div>"
      ],
      "text/plain": [
       "  date      mode                      experts            username   result  \\\n",
       "0    0  original  [u'varTreePY', u'varTreeY']           anonymous  Restart   \n",
       "1    0  original  [u'varTreePY', u'varTreeY']       elaaaaaaaaaaa  Restart   \n",
       "2    0  original  [u'varTreePY', u'varTreeY']   adasdasdasdasdasd  Restart   \n",
       "3    0  original  [u'varTreePY', u'varTreeY']  aosdkoakdoakdoaskd  Restart   \n",
       "4    0  original  [u'varTreePY', u'varTreeY']           anonymous  Restart   \n",
       "\n",
       "   score             ip                                        movesPlayer  \\\n",
       "0     -6  208.54.39.129  [1L, 0L, 1L, 0L, 1L, 1L, 0L, 1L, 0L, 0L, 1L, 0...   \n",
       "1    -24  209.2.221.197  [1L, 1L, 1L, 1L, 0L, 1L, 1L, 0L, 0L, 0L, 0L, 0...   \n",
       "2    -16  209.2.221.197  [1L, 0L, 0L, 0L, 0L, 0L, 0L, 0L, 0L, 0L, 0L, 0...   \n",
       "3     -2  209.2.221.197                                   [1L, 0L, 0L, 0L]   \n",
       "4      1  209.2.221.197                                               [3L]   \n",
       "\n",
       "                                           movesComp  \\\n",
       "0  [1L, 1L, 1L, 0L, 1L, 0L, 0L, 1L, 0L, 1L, 1L, 0...   \n",
       "1  [1L, 0L, 1L, 0L, 1L, 0L, 0L, 0L, 0L, 0L, 1L, 1...   \n",
       "2  [0L, 0L, 0L, 0L, 1L, 0L, 0L, 0L, 0L, 0L, 0L, 0...   \n",
       "3                                   [0L, 0L, 0L, 0L]   \n",
       "4                                               [3L]   \n",
       "\n",
       "                                               times  totMoves  totTime  \\\n",
       "0  [1453330325603L, 1453330325828L, 1453330326038...        20   282.86   \n",
       "1  [1453337692341L, 1453337699155L, 1453337710785...        58   877.56   \n",
       "2  [1453337970979L, 1453337972428L, 1453337976487...        20    88.87   \n",
       "3  [1453339729701L, 1453339732436L, 1453339735087...         4    64.74   \n",
       "4                                   [1453339751744L]         1     0.00   \n",
       "\n",
       "     avgTime  \n",
       "0  14.143000  \n",
       "1  15.130345  \n",
       "2   4.443500  \n",
       "3  16.185000  \n",
       "4   0.000000  "
      ]
     },
     "execution_count": 6,
     "metadata": {},
     "output_type": "execute_result"
    }
   ],
   "source": [
    "data.head()"
   ]
  },
  {
   "cell_type": "code",
   "execution_count": 7,
   "metadata": {
    "hidden": true,
    "init_cell": true,
    "scrolled": false
   },
   "outputs": [
    {
     "data": {
      "text/html": [
       "<div>\n",
       "<style scoped>\n",
       "    .dataframe tbody tr th:only-of-type {\n",
       "        vertical-align: middle;\n",
       "    }\n",
       "\n",
       "    .dataframe tbody tr th {\n",
       "        vertical-align: top;\n",
       "    }\n",
       "\n",
       "    .dataframe thead th {\n",
       "        text-align: right;\n",
       "    }\n",
       "</style>\n",
       "<table border=\"1\" class=\"dataframe\">\n",
       "  <thead>\n",
       "    <tr style=\"text-align: right;\">\n",
       "      <th></th>\n",
       "      <th>score</th>\n",
       "      <th>totMoves</th>\n",
       "      <th>totTime</th>\n",
       "      <th>avgTime</th>\n",
       "    </tr>\n",
       "  </thead>\n",
       "  <tbody>\n",
       "    <tr>\n",
       "      <th>count</th>\n",
       "      <td>7925.000000</td>\n",
       "      <td>7925.000000</td>\n",
       "      <td>7925.000000</td>\n",
       "      <td>7925.000000</td>\n",
       "    </tr>\n",
       "    <tr>\n",
       "      <th>mean</th>\n",
       "      <td>-19.809338</td>\n",
       "      <td>116.595205</td>\n",
       "      <td>138.172433</td>\n",
       "      <td>1.433386</td>\n",
       "    </tr>\n",
       "    <tr>\n",
       "      <th>std</th>\n",
       "      <td>26.065359</td>\n",
       "      <td>72.524059</td>\n",
       "      <td>397.627805</td>\n",
       "      <td>3.609651</td>\n",
       "    </tr>\n",
       "    <tr>\n",
       "      <th>min</th>\n",
       "      <td>-100.000000</td>\n",
       "      <td>1.000000</td>\n",
       "      <td>0.000000</td>\n",
       "      <td>0.000000</td>\n",
       "    </tr>\n",
       "    <tr>\n",
       "      <th>25%</th>\n",
       "      <td>-34.000000</td>\n",
       "      <td>35.000000</td>\n",
       "      <td>15.650000</td>\n",
       "      <td>0.172759</td>\n",
       "    </tr>\n",
       "    <tr>\n",
       "      <th>50%</th>\n",
       "      <td>-13.000000</td>\n",
       "      <td>146.000000</td>\n",
       "      <td>32.580000</td>\n",
       "      <td>0.331250</td>\n",
       "    </tr>\n",
       "    <tr>\n",
       "      <th>75%</th>\n",
       "      <td>0.000000</td>\n",
       "      <td>181.000000</td>\n",
       "      <td>64.970000</td>\n",
       "      <td>0.749189</td>\n",
       "    </tr>\n",
       "    <tr>\n",
       "      <th>max</th>\n",
       "      <td>39.000000</td>\n",
       "      <td>199.000000</td>\n",
       "      <td>3976.590000</td>\n",
       "      <td>48.830714</td>\n",
       "    </tr>\n",
       "  </tbody>\n",
       "</table>\n",
       "</div>"
      ],
      "text/plain": [
       "             score     totMoves      totTime      avgTime\n",
       "count  7925.000000  7925.000000  7925.000000  7925.000000\n",
       "mean    -19.809338   116.595205   138.172433     1.433386\n",
       "std      26.065359    72.524059   397.627805     3.609651\n",
       "min    -100.000000     1.000000     0.000000     0.000000\n",
       "25%     -34.000000    35.000000    15.650000     0.172759\n",
       "50%     -13.000000   146.000000    32.580000     0.331250\n",
       "75%       0.000000   181.000000    64.970000     0.749189\n",
       "max      39.000000   199.000000  3976.590000    48.830714"
      ]
     },
     "execution_count": 7,
     "metadata": {},
     "output_type": "execute_result"
    }
   ],
   "source": [
    "data.describe()"
   ]
  },
  {
   "cell_type": "markdown",
   "metadata": {
    "hidden": true
   },
   "source": [
    "## Create Lists of Game Moves and Times"
   ]
  },
  {
   "cell_type": "markdown",
   "metadata": {
    "hidden": true
   },
   "source": [
    "<font color=\"blue\">stringToList</font> is a function that converts the strings of numbers from the dataset into lists. This is used for <b>movesPlayer, movesComp, and times</b>"
   ]
  },
  {
   "cell_type": "code",
   "execution_count": 8,
   "metadata": {
    "code_folding": [
     0
    ],
    "collapsed": true,
    "hidden": true,
    "hide_input": false,
    "init_cell": true
   },
   "outputs": [],
   "source": [
    "# helper function, stringToList\n",
    "def stringToList(x):\n",
    "    xList = x[1:-2].split(\"L, \")\n",
    "    return np.array(xList, dtype=np.int) #<-- return numpy list of integers\n",
    "\n",
    "def columnToList(column):\n",
    "    out = []\n",
    "    for x in column:\n",
    "        out.append( stringToList(x) )\n",
    "    return np.array(out)\n"
   ]
  },
  {
   "cell_type": "code",
   "execution_count": 9,
   "metadata": {
    "collapsed": true,
    "hidden": true,
    "hide_input": true,
    "init_cell": true
   },
   "outputs": [],
   "source": [
    "movesPlayer = columnToList( data[\"movesPlayer\"].values ) \n",
    "movesComp = columnToList( data[\"movesComp\"].values )\n",
    "times = columnToList( data[\"times\"].values )"
   ]
  },
  {
   "cell_type": "markdown",
   "metadata": {
    "hidden": true
   },
   "source": [
    "Add <font color=\"blue\" >numMoves</font> to the dataframe <font color=\"blue\" >data</font>. <font color=\"blue\">numMoves  </font> is number of moves for each game"
   ]
  },
  {
   "cell_type": "code",
   "execution_count": 10,
   "metadata": {
    "collapsed": true,
    "hidden": true,
    "init_cell": true
   },
   "outputs": [],
   "source": [
    "numMoves = np.array( [ len(x) for x in movesPlayer ] )\n",
    "data[\"numMoves\"] = numMoves"
   ]
  },
  {
   "cell_type": "markdown",
   "metadata": {
    "hidden": true
   },
   "source": [
    "we see that <font color=\"blue\" >numMoves</font> has been added to the dataframe. <font color=\"gray\">You may have to scroll right to see the entire dataframe.</font>"
   ]
  },
  {
   "cell_type": "code",
   "execution_count": 11,
   "metadata": {
    "hidden": true,
    "init_cell": true
   },
   "outputs": [
    {
     "data": {
      "text/html": [
       "<div>\n",
       "<style scoped>\n",
       "    .dataframe tbody tr th:only-of-type {\n",
       "        vertical-align: middle;\n",
       "    }\n",
       "\n",
       "    .dataframe tbody tr th {\n",
       "        vertical-align: top;\n",
       "    }\n",
       "\n",
       "    .dataframe thead th {\n",
       "        text-align: right;\n",
       "    }\n",
       "</style>\n",
       "<table border=\"1\" class=\"dataframe\">\n",
       "  <thead>\n",
       "    <tr style=\"text-align: right;\">\n",
       "      <th></th>\n",
       "      <th>date</th>\n",
       "      <th>mode</th>\n",
       "      <th>experts</th>\n",
       "      <th>username</th>\n",
       "      <th>result</th>\n",
       "      <th>score</th>\n",
       "      <th>ip</th>\n",
       "      <th>movesPlayer</th>\n",
       "      <th>movesComp</th>\n",
       "      <th>times</th>\n",
       "      <th>totMoves</th>\n",
       "      <th>totTime</th>\n",
       "      <th>avgTime</th>\n",
       "      <th>numMoves</th>\n",
       "    </tr>\n",
       "  </thead>\n",
       "  <tbody>\n",
       "    <tr>\n",
       "      <th>0</th>\n",
       "      <td>0</td>\n",
       "      <td>original</td>\n",
       "      <td>[u'varTreePY', u'varTreeY']</td>\n",
       "      <td>anonymous</td>\n",
       "      <td>Restart</td>\n",
       "      <td>-6</td>\n",
       "      <td>208.54.39.129</td>\n",
       "      <td>[1L, 0L, 1L, 0L, 1L, 1L, 0L, 1L, 0L, 0L, 1L, 0...</td>\n",
       "      <td>[1L, 1L, 1L, 0L, 1L, 0L, 0L, 1L, 0L, 1L, 1L, 0...</td>\n",
       "      <td>[1453330325603L, 1453330325828L, 1453330326038...</td>\n",
       "      <td>20</td>\n",
       "      <td>282.86</td>\n",
       "      <td>14.143000</td>\n",
       "      <td>20</td>\n",
       "    </tr>\n",
       "    <tr>\n",
       "      <th>1</th>\n",
       "      <td>0</td>\n",
       "      <td>original</td>\n",
       "      <td>[u'varTreePY', u'varTreeY']</td>\n",
       "      <td>elaaaaaaaaaaa</td>\n",
       "      <td>Restart</td>\n",
       "      <td>-24</td>\n",
       "      <td>209.2.221.197</td>\n",
       "      <td>[1L, 1L, 1L, 1L, 0L, 1L, 1L, 0L, 0L, 0L, 0L, 0...</td>\n",
       "      <td>[1L, 0L, 1L, 0L, 1L, 0L, 0L, 0L, 0L, 0L, 1L, 1...</td>\n",
       "      <td>[1453337692341L, 1453337699155L, 1453337710785...</td>\n",
       "      <td>58</td>\n",
       "      <td>877.56</td>\n",
       "      <td>15.130345</td>\n",
       "      <td>58</td>\n",
       "    </tr>\n",
       "    <tr>\n",
       "      <th>2</th>\n",
       "      <td>0</td>\n",
       "      <td>original</td>\n",
       "      <td>[u'varTreePY', u'varTreeY']</td>\n",
       "      <td>adasdasdasdasdasd</td>\n",
       "      <td>Restart</td>\n",
       "      <td>-16</td>\n",
       "      <td>209.2.221.197</td>\n",
       "      <td>[1L, 0L, 0L, 0L, 0L, 0L, 0L, 0L, 0L, 0L, 0L, 0...</td>\n",
       "      <td>[0L, 0L, 0L, 0L, 1L, 0L, 0L, 0L, 0L, 0L, 0L, 0...</td>\n",
       "      <td>[1453337970979L, 1453337972428L, 1453337976487...</td>\n",
       "      <td>20</td>\n",
       "      <td>88.87</td>\n",
       "      <td>4.443500</td>\n",
       "      <td>20</td>\n",
       "    </tr>\n",
       "    <tr>\n",
       "      <th>3</th>\n",
       "      <td>0</td>\n",
       "      <td>original</td>\n",
       "      <td>[u'varTreePY', u'varTreeY']</td>\n",
       "      <td>aosdkoakdoakdoaskd</td>\n",
       "      <td>Restart</td>\n",
       "      <td>-2</td>\n",
       "      <td>209.2.221.197</td>\n",
       "      <td>[1L, 0L, 0L, 0L]</td>\n",
       "      <td>[0L, 0L, 0L, 0L]</td>\n",
       "      <td>[1453339729701L, 1453339732436L, 1453339735087...</td>\n",
       "      <td>4</td>\n",
       "      <td>64.74</td>\n",
       "      <td>16.185000</td>\n",
       "      <td>4</td>\n",
       "    </tr>\n",
       "    <tr>\n",
       "      <th>4</th>\n",
       "      <td>0</td>\n",
       "      <td>original</td>\n",
       "      <td>[u'varTreePY', u'varTreeY']</td>\n",
       "      <td>anonymous</td>\n",
       "      <td>Restart</td>\n",
       "      <td>1</td>\n",
       "      <td>209.2.221.197</td>\n",
       "      <td>[3L]</td>\n",
       "      <td>[3L]</td>\n",
       "      <td>[1453339751744L]</td>\n",
       "      <td>1</td>\n",
       "      <td>0.00</td>\n",
       "      <td>0.000000</td>\n",
       "      <td>1</td>\n",
       "    </tr>\n",
       "  </tbody>\n",
       "</table>\n",
       "</div>"
      ],
      "text/plain": [
       "  date      mode                      experts            username   result  \\\n",
       "0    0  original  [u'varTreePY', u'varTreeY']           anonymous  Restart   \n",
       "1    0  original  [u'varTreePY', u'varTreeY']       elaaaaaaaaaaa  Restart   \n",
       "2    0  original  [u'varTreePY', u'varTreeY']   adasdasdasdasdasd  Restart   \n",
       "3    0  original  [u'varTreePY', u'varTreeY']  aosdkoakdoakdoaskd  Restart   \n",
       "4    0  original  [u'varTreePY', u'varTreeY']           anonymous  Restart   \n",
       "\n",
       "   score             ip                                        movesPlayer  \\\n",
       "0     -6  208.54.39.129  [1L, 0L, 1L, 0L, 1L, 1L, 0L, 1L, 0L, 0L, 1L, 0...   \n",
       "1    -24  209.2.221.197  [1L, 1L, 1L, 1L, 0L, 1L, 1L, 0L, 0L, 0L, 0L, 0...   \n",
       "2    -16  209.2.221.197  [1L, 0L, 0L, 0L, 0L, 0L, 0L, 0L, 0L, 0L, 0L, 0...   \n",
       "3     -2  209.2.221.197                                   [1L, 0L, 0L, 0L]   \n",
       "4      1  209.2.221.197                                               [3L]   \n",
       "\n",
       "                                           movesComp  \\\n",
       "0  [1L, 1L, 1L, 0L, 1L, 0L, 0L, 1L, 0L, 1L, 1L, 0...   \n",
       "1  [1L, 0L, 1L, 0L, 1L, 0L, 0L, 0L, 0L, 0L, 1L, 1...   \n",
       "2  [0L, 0L, 0L, 0L, 1L, 0L, 0L, 0L, 0L, 0L, 0L, 0...   \n",
       "3                                   [0L, 0L, 0L, 0L]   \n",
       "4                                               [3L]   \n",
       "\n",
       "                                               times  totMoves  totTime  \\\n",
       "0  [1453330325603L, 1453330325828L, 1453330326038...        20   282.86   \n",
       "1  [1453337692341L, 1453337699155L, 1453337710785...        58   877.56   \n",
       "2  [1453337970979L, 1453337972428L, 1453337976487...        20    88.87   \n",
       "3  [1453339729701L, 1453339732436L, 1453339735087...         4    64.74   \n",
       "4                                   [1453339751744L]         1     0.00   \n",
       "\n",
       "     avgTime  numMoves  \n",
       "0  14.143000        20  \n",
       "1  15.130345        58  \n",
       "2   4.443500        20  \n",
       "3  16.185000         4  \n",
       "4   0.000000         1  "
      ]
     },
     "execution_count": 11,
     "metadata": {},
     "output_type": "execute_result"
    }
   ],
   "source": [
    "data.head()"
   ]
  },
  {
   "cell_type": "markdown",
   "metadata": {
    "collapsed": true,
    "heading_collapsed": true
   },
   "source": [
    "# Clean Data\n",
    "\n",
    "**Key Variables Created**\n",
    "* <font color=\"blue\">players :</font> A list of tuples, `(username, game_indices)`. Games are ordered by large to small. <font color=\"gray\">(indices correspond to rows in data)</font>"
   ]
  },
  {
   "cell_type": "markdown",
   "metadata": {
    "hidden": true
   },
   "source": [
    "## Group Indices by Username\n",
    "\n"
   ]
  },
  {
   "cell_type": "markdown",
   "metadata": {
    "hidden": true
   },
   "source": [
    "This creates <font color=\"blue\">players</font>"
   ]
  },
  {
   "cell_type": "code",
   "execution_count": 12,
   "metadata": {
    "code_folding": [
     0
    ],
    "collapsed": true,
    "hidden": true,
    "init_cell": true
   },
   "outputs": [],
   "source": [
    "# create players for all usernames\n",
    "names_uni = data.username.unique()\n",
    "players = []\n",
    "for x in names_uni:\n",
    "    indi_unorder = np.where(data.username == x)[0]  \n",
    "    indi_order = indi_unorder[ np.flip( np.argsort( numMoves[indi_unorder]) ,0)  ]\n",
    "    players.append( (x,indi_order) ) "
   ]
  },
  {
   "cell_type": "markdown",
   "metadata": {
    "collapsed": true,
    "hidden": true
   },
   "source": [
    "## Build Dataset for Game's Class Experiment"
   ]
  },
  {
   "cell_type": "markdown",
   "metadata": {
    "hidden": true
   },
   "source": [
    "From <font color=\"blue\">players</font>, we remove all users who played only one game, since our goal is to check the algorithms performance across multiple games. We also remove all games that had less than 15 moves. This removes a considerable amount of the actual games."
   ]
  },
  {
   "cell_type": "code",
   "execution_count": 13,
   "metadata": {
    "code_folding": [
     0
    ],
    "collapsed": true,
    "hidden": true,
    "init_cell": true
   },
   "outputs": [],
   "source": [
    "# create reduced players\n",
    "names_uni = data.username.unique()\n",
    "players = []\n",
    "for x in names_uni:\n",
    "    indi_unorder = np.where(data.username == x)[0]                       #<-- get indices of user's game\n",
    "    indi_order = indi_unorder[ np.flip( np.argsort( numMoves[indi_unorder]) ,0)  ]    #<-- order games by length\n",
    "    indi_big   = indi_order[ np.where( numMoves[indi_order] > 15 )[0] ]  #<-- remove short games\n",
    "    \n",
    "    if len(indi_big)>1 and x!='anonymous':  #<-- if there is mor than just 1 game and user is not \"anonymous\"\n",
    "        players.append( (x,indi_big) )      #<-- create list of user names"
   ]
  },
  {
   "cell_type": "markdown",
   "metadata": {
    "hidden": true
   },
   "source": [
    "## Check for Cheating\n",
    "\n",
    "This dataset was cleaned up by me earlier, there doesn't appear to be any cheating form the following fast check. "
   ]
  },
  {
   "cell_type": "markdown",
   "metadata": {
    "hidden": true
   },
   "source": [
    "Basically I am just checking that the addicted player aren't cheating through a cursory glance of their games"
   ]
  },
  {
   "cell_type": "code",
   "execution_count": 14,
   "metadata": {
    "hidden": true
   },
   "outputs": [
    {
     "data": {
      "text/plain": [
       "array([ 33,  44,  67, 246, 517])"
      ]
     },
     "execution_count": 14,
     "metadata": {},
     "output_type": "execute_result"
    }
   ],
   "source": [
    "numGames= np.array( [len(x[1]) for x in players] )\n",
    "addicts = np.where( numGames > 30 )[0]\n",
    "addicts"
   ]
  },
  {
   "cell_type": "code",
   "execution_count": 15,
   "metadata": {
    "hidden": true
   },
   "outputs": [
    {
     "data": {
      "text/plain": [
       "array([43, 96, 39, 38, 57])"
      ]
     },
     "execution_count": 15,
     "metadata": {},
     "output_type": "execute_result"
    }
   ],
   "source": [
    "numGames[ addicts]"
   ]
  },
  {
   "cell_type": "markdown",
   "metadata": {
    "hidden": true
   },
   "source": [
    "I used the cell below to check if addicted players cheating. It looked like they weren't."
   ]
  },
  {
   "cell_type": "code",
   "execution_count": 16,
   "metadata": {
    "hidden": true
   },
   "outputs": [
    {
     "data": {
      "application/vnd.jupyter.widget-view+json": {
       "model_id": "2107369ec00a421d8c0030870fed5dc8",
       "version_major": 2,
       "version_minor": 0
      },
      "text/plain": [
       "A Jupyter Widget"
      ]
     },
     "metadata": {},
     "output_type": "display_data"
    }
   ],
   "source": [
    "@interact(val = addicts)\n",
    "def f(val):\n",
    "    display( data.iloc[ players[val][1] ] )"
   ]
  },
  {
   "cell_type": "markdown",
   "metadata": {
    "collapsed": true
   },
   "source": [
    "# MindReader Game Class\n",
    "\n",
    "We us the mindreader game class to simulate whate happens when multiple games are played by the same user, without having the tree reinitialized. \n",
    "\n",
    "**Key Variables Created**\n",
    "* <font color=\"magenta\">Game :</font> A class that simulates playing games agaisn't the learning algorithm.\n",
    "\n",
    "\n",
    "* <font color=\"blue\">simulations_smart :</font> Each player's Game results from the AI that remember saves tree\n",
    "* <font color=\"blue\">simulations_naive :</font> Each player's Game results from the AI that resets tree each game\n",
    "* <font color=\"blue\">avg_diff_per_game :</font> Each player's mean per move difference between the naive and smart bot for each game, excludes first game played\n"
   ]
  },
  {
   "cell_type": "markdown",
   "metadata": {
    "heading_collapsed": true
   },
   "source": [
    "## Create Game class"
   ]
  },
  {
   "cell_type": "markdown",
   "metadata": {
    "hidden": true
   },
   "source": [
    "We user the package [py_mini_racer](https://github.com/sqreen/PyMiniRacer) to run the MindReader algorithm. <font color=\"blue\">ctx</font> is our javascript interface. <font color=\"blue\">jsPath</font> is the path to the javascript files"
   ]
  },
  {
   "cell_type": "markdown",
   "metadata": {
    "hidden": true
   },
   "source": [
    "The class <font color=\"magenta\">*Game*</font> can be use to create an instance of AI used for the MindReader.\n",
    "\n",
    "* On initialization you can specify the maximum depth of the context tree used by the algorithm.\n",
    "* By default Game( tree_depth=200 )\n",
    "* game.score will present the current score of the game.\n",
    "* game.update( player_move ) can be used to update the game. player_move must be 1 or 0 ."
   ]
  },
  {
   "cell_type": "code",
   "execution_count": 17,
   "metadata": {
    "code_folding": [
     0
    ],
    "collapsed": true,
    "hidden": true,
    "init_cell": true
   },
   "outputs": [],
   "source": [
    "class Game():\n",
    "    \n",
    "    # inialize a new \"game\", this starts up the learning algorithm used in MindReader\n",
    "    def __init__(self, tree_depth = 200):\n",
    "        # setup javascript api and paths to files\n",
    "        jsPath = \"/Documents/website/freunds-mind-reader/staticFiles/script/\"\n",
    "        jsFiles = [\"CtxTree.js\", \"TreeExperts.js\" ,\"Hedge.js\", \"AI.js\"]\n",
    "        self.ctx = py_mini_racer.MiniRacer()\n",
    "        \n",
    "        # run the necesarry javascript files\n",
    "        for i in jsFiles:\n",
    "            f = open(jsPath+i, 'r')\n",
    "            self.ctx.eval( f.read() )\n",
    "            f.close()\n",
    "            \n",
    "        self.freezeWeights = False  #<-- used when we want to freeze the learning algorithm so it doesn't update\n",
    "        \n",
    "        self.ctx.eval( \"var tree_copy;\" )    #<-- necessary for the save/load tree functions\n",
    "        self.ctx.eval( \"var ai = new AI(\"+str(tree_depth)+\");\" ) #<-- call game in javascript, set max tree depth\n",
    "        self.ctx.eval(\"var compMove = ai.start()\")    #<-- start game, set first output\n",
    "        self.score = 0                           #<-- keep track of the game's score\n",
    "    \n",
    "    # Helper Function: update the scrore and the learning algorithm\n",
    "    def update( self, playerMove ):\n",
    "        self.score += 1 if playerMove != self.ctx.eval(\"compMove\") else -1   #<-- update score\n",
    "        self.ctx.eval( \"compMove = ai.predict(compMove, \"+str(playerMove)+\",\"+str(self.freezeWeights).lower()+\");\")\n",
    "    \n",
    "    # reset score, simulate multipe user moves from list, and return score. **Notice that tree is not reset\n",
    "    def doGame( self, gameMoves ):\n",
    "        self.ctx.eval(\"ai.expProbs=[]; ai.expert.tree.ex = null;\") #<-- This protects agaisnt memory leaks\n",
    "        \n",
    "        self.score = 0\n",
    "        for move in gameMoves:\n",
    "            self.update( move )\n",
    "        return self.score\n",
    "    \n",
    "    \n",
    "    # these classes are necessary to save/load tree weights from a certain point in time.\n",
    "    def saveTree(self):\n",
    "        self.ctx.eval( \"tree_copy = ai.expert.tree.root;\" )\n",
    "    def loadTree(self):\n",
    "        self.ctx.eval( \"ai.expert.tree.root = tree_copy;\" )\n",
    "    "
   ]
  },
  {
   "cell_type": "markdown",
   "metadata": {
    "hidden": true
   },
   "source": [
    "The following is a fast check that ensures the <font color=\"magenta\">*Game*</font> objects are distinct on the javascript side as well."
   ]
  },
  {
   "cell_type": "code",
   "execution_count": 18,
   "metadata": {
    "code_folding": [
     0
    ],
    "hidden": true
   },
   "outputs": [
    {
     "name": "stdout",
     "output_type": "stream",
     "text": [
      "all good!\n"
     ]
    }
   ],
   "source": [
    "# This cell runs runs a fast check on Game\n",
    "bot1, bot2 = Game(),Game() \n",
    "bot1.ctx.eval(\"var tulips = 4\")\n",
    "\n",
    "try:\n",
    "    bot2.ctx.eval(\"tulips\") \n",
    "except:\n",
    "    print \"all good!\""
   ]
  },
  {
   "cell_type": "markdown",
   "metadata": {
    "heading_collapsed": true
   },
   "source": [
    "## Get game results"
   ]
  },
  {
   "cell_type": "markdown",
   "metadata": {
    "hidden": true
   },
   "source": [
    "Here we simulate playing all the games over again and store the results"
   ]
  },
  {
   "cell_type": "markdown",
   "metadata": {
    "hidden": true
   },
   "source": [
    "Our main statistic is `avg_diff_per_game`, this equals:\n",
    "\n",
    "$$\\text{avg_diff_per_game}=\\frac{\\text{score_smart}-\\text{score_naive}}{\\text{number_game_moves}}$$\n",
    " "
   ]
  },
  {
   "cell_type": "code",
   "execution_count": 19,
   "metadata": {
    "code_folding": [
     0
    ],
    "hidden": true
   },
   "outputs": [
    {
     "data": {
      "text/plain": [
       "'\\nsimulations_smart, simulations_naive = [], [] #<-- records the game simulations for each game of every player\\navg_diff_per_game = []\\n\\nfor username,player_games in players:\\n    bot_smart = Game()       #<-- initialize smart bot outside of player\\'s games for loop, so that it \"remembers\"\\n    \\n    scores_naive, scores_smart = [], []       #<-- get simulated and real game scores\\n    for gameMoves in movesPlayer[ player_games ]:\\n        \\n        scores_smart.append( bot_smart.doGame(gameMoves) )  #<-- score after playing a game\\n        \\n        bot_naive = Game()       #<-- naive bot is reset each game\\n        scores_naive.append( bot_naive.doGame(gameMoves) )\\n        \\n    scores_smart, scores_naive = np.array(scores_smart), np.array(scores_naive)  #<-- convert scores to np.array\\'s\\n    moves_count = data.iloc[ player_games ].numMoves.values.astype(float)   #<-- get number of moves\\n    game_change = (scores_smart - scores_naive)/moves_count                    #<-- average diff per move per game\\n    \\n    simulations_smart.append( scores_smart )\\n    simulations_naive.append( scores_naive )\\n    avg_diff_per_game.append( game_change[1:] ) #<-- remove first game because weights never learned anything\\n    \\nsimulations_smart = np.array(simulations_smart)\\nsimulations_naive = np.array(simulations_naive)\\navg_diff_per_game = np.array(avg_diff_per_game)\\n'"
      ]
     },
     "execution_count": 19,
     "metadata": {},
     "output_type": "execute_result"
    }
   ],
   "source": [
    "# this code retrieves both games scores for both smart and naive bots (WARNING: 3-5 minute runtime)\n",
    "'''\n",
    "simulations_smart, simulations_naive = [], [] #<-- records the game simulations for each game of every player\n",
    "avg_diff_per_game = []\n",
    "\n",
    "for username,player_games in players:\n",
    "    bot_smart = Game()       #<-- initialize smart bot outside of player's games for loop, so that it \"remembers\"\n",
    "    \n",
    "    scores_naive, scores_smart = [], []       #<-- get simulated and real game scores\n",
    "    for gameMoves in movesPlayer[ player_games ]:\n",
    "        \n",
    "        scores_smart.append( bot_smart.doGame(gameMoves) )  #<-- score after playing a game\n",
    "        \n",
    "        bot_naive = Game()       #<-- naive bot is reset each game\n",
    "        scores_naive.append( bot_naive.doGame(gameMoves) )\n",
    "        \n",
    "    scores_smart, scores_naive = np.array(scores_smart), np.array(scores_naive)  #<-- convert scores to np.array's\n",
    "    moves_count = data.iloc[ player_games ].numMoves.values.astype(float)   #<-- get number of moves\n",
    "    game_change = (scores_smart - scores_naive)/moves_count                    #<-- average diff per move per game\n",
    "    \n",
    "    simulations_smart.append( scores_smart )\n",
    "    simulations_naive.append( scores_naive )\n",
    "    avg_diff_per_game.append( game_change[1:] ) #<-- remove first game because weights never learned anything\n",
    "    \n",
    "simulations_smart = np.array(simulations_smart)\n",
    "simulations_naive = np.array(simulations_naive)\n",
    "avg_diff_per_game = np.array(avg_diff_per_game)\n",
    "'''"
   ]
  },
  {
   "cell_type": "markdown",
   "metadata": {
    "heading_collapsed": true
   },
   "source": [
    "## Look at basic statistics"
   ]
  },
  {
   "cell_type": "markdown",
   "metadata": {
    "hidden": true
   },
   "source": [
    "Below are basic summary statistics and a graph of `avg_diff_per_game`"
   ]
  },
  {
   "cell_type": "code",
   "execution_count": 20,
   "metadata": {
    "hidden": true
   },
   "outputs": [
    {
     "ename": "NameError",
     "evalue": "name 'avg_diff_per_game' is not defined",
     "output_type": "error",
     "traceback": [
      "\u001b[0;31m---------------------------------------------------------------------------\u001b[0m",
      "\u001b[0;31mNameError\u001b[0m                                 Traceback (most recent call last)",
      "\u001b[0;32m<ipython-input-20-f7f6a1185b4a>\u001b[0m in \u001b[0;36m<module>\u001b[0;34m()\u001b[0m\n\u001b[0;32m----> 1\u001b[0;31m \u001b[0mflat_game_diffs\u001b[0m \u001b[0;34m=\u001b[0m \u001b[0mnp\u001b[0m\u001b[0;34m.\u001b[0m\u001b[0mconcatenate\u001b[0m\u001b[0;34m(\u001b[0m\u001b[0mavg_diff_per_game\u001b[0m\u001b[0;34m)\u001b[0m\u001b[0;34m\u001b[0m\u001b[0m\n\u001b[0m\u001b[1;32m      2\u001b[0m \u001b[0mstats\u001b[0m\u001b[0;34m.\u001b[0m\u001b[0mdescribe\u001b[0m\u001b[0;34m(\u001b[0m\u001b[0mflat_game_diffs\u001b[0m\u001b[0;34m)\u001b[0m\u001b[0;34m\u001b[0m\u001b[0m\n",
      "\u001b[0;31mNameError\u001b[0m: name 'avg_diff_per_game' is not defined"
     ]
    }
   ],
   "source": [
    "flat_game_diffs = np.concatenate(avg_diff_per_game)\n",
    "stats.describe(flat_game_diffs)"
   ]
  },
  {
   "cell_type": "code",
   "execution_count": null,
   "metadata": {
    "collapsed": true,
    "hidden": true
   },
   "outputs": [],
   "source": [
    "plt.hist(flat_game_diffs,bins=100);"
   ]
  },
  {
   "cell_type": "markdown",
   "metadata": {},
   "source": [
    "# Build Grouping Algorithm"
   ]
  },
  {
   "cell_type": "markdown",
   "metadata": {},
   "source": [
    "## Helper Functions"
   ]
  },
  {
   "cell_type": "markdown",
   "metadata": {},
   "source": [
    "<font color=\"blue\">testPlayer</font> takes a players index, gets there games, then runs both bots on the games while keeping the **bot weight's frozen**. It returns the average game score from each bot."
   ]
  },
  {
   "cell_type": "code",
   "execution_count": 43,
   "metadata": {
    "collapsed": true
   },
   "outputs": [],
   "source": [
    "def testPlayer( idx_player, bots):\n",
    "    moves = movesPlayer[ players[idx_player][1] ]\n",
    "    score = range(len(bots))\n",
    "    \n",
    "    for i in range(len(bots)):\n",
    "        bots[i].freezeWeights = True\n",
    "\n",
    "        score_temp = []    \n",
    "        for gameMoves in moves:\n",
    "            score_temp.append( bots[0].doGame(gameMoves) )\n",
    "        score[i] = np.mean(score_temp)\n",
    "\n",
    "        bots[i].freezeWeights = False\n",
    "    \n",
    "    return score\n",
    "    "
   ]
  },
  {
   "cell_type": "code",
   "execution_count": 130,
   "metadata": {
    "collapsed": true
   },
   "outputs": [],
   "source": [
    "def testGame( idx_game, bots):\n",
    "    gameMoves = movesPlayer[ idx_game ]\n",
    "    score = []\n",
    "    \n",
    "    for i in range(len(bots)):\n",
    "        bots[i].freezeWeights = True\n",
    "        score.append( bots[0].doGame(gameMoves) )\n",
    "        bots[i].freezeWeights = False\n",
    "    \n",
    "    return score"
   ]
  },
  {
   "cell_type": "markdown",
   "metadata": {},
   "source": [
    "##  Building Groups by Player"
   ]
  },
  {
   "cell_type": "markdown",
   "metadata": {},
   "source": [
    "we shuffle all of the users for satistical reasons"
   ]
  },
  {
   "cell_type": "code",
   "execution_count": 67,
   "metadata": {
    "collapsed": true
   },
   "outputs": [],
   "source": [
    "np.random.seed(1)\n",
    "indices = np.random.choice( len(players), size=len(players), replace=False ).tolist()"
   ]
  },
  {
   "cell_type": "markdown",
   "metadata": {},
   "source": [
    "create unique Game classes and have them each start with a different usere's moves"
   ]
  },
  {
   "cell_type": "code",
   "execution_count": 68,
   "metadata": {
    "collapsed": true
   },
   "outputs": [],
   "source": [
    "num_bots = 3\n",
    "max_tree_depth = 50\n",
    "toClose = []  #<-- an array where we put all the players whose game's are to close to assigne to a specific bot"
   ]
  },
  {
   "cell_type": "code",
   "execution_count": 96,
   "metadata": {},
   "outputs": [
    {
     "ename": "NameError",
     "evalue": "name 'max_tree_depth' is not defined",
     "output_type": "error",
     "traceback": [
      "\u001b[0;31m---------------------------------------------------------------------------\u001b[0m",
      "\u001b[0;31mNameError\u001b[0m                                 Traceback (most recent call last)",
      "\u001b[0;32m<ipython-input-96-a865d8c8a57f>\u001b[0m in \u001b[0;36m<module>\u001b[0;34m()\u001b[0m\n\u001b[1;32m      2\u001b[0m \u001b[0midx\u001b[0m \u001b[0;34m=\u001b[0m \u001b[0;34m[\u001b[0m\u001b[0;34m]\u001b[0m\u001b[0;34m\u001b[0m\u001b[0m\n\u001b[1;32m      3\u001b[0m \u001b[0;32mfor\u001b[0m \u001b[0mi\u001b[0m \u001b[0;32min\u001b[0m \u001b[0mrange\u001b[0m\u001b[0;34m(\u001b[0m\u001b[0mnum_bots\u001b[0m\u001b[0;34m)\u001b[0m\u001b[0;34m:\u001b[0m\u001b[0;34m\u001b[0m\u001b[0m\n\u001b[0;32m----> 4\u001b[0;31m     \u001b[0mbots\u001b[0m\u001b[0;34m.\u001b[0m\u001b[0mappend\u001b[0m\u001b[0;34m(\u001b[0m \u001b[0mGame\u001b[0m\u001b[0;34m(\u001b[0m\u001b[0mmax_tree_depth\u001b[0m\u001b[0;34m)\u001b[0m \u001b[0;34m)\u001b[0m         \u001b[0;31m#<--  initialize the bots\u001b[0m\u001b[0;34m\u001b[0m\u001b[0m\n\u001b[0m\u001b[1;32m      5\u001b[0m     \u001b[0midx\u001b[0m\u001b[0;34m.\u001b[0m\u001b[0mappend\u001b[0m\u001b[0;34m(\u001b[0m \u001b[0;34m[\u001b[0m\u001b[0mindices\u001b[0m\u001b[0;34m.\u001b[0m\u001b[0mpop\u001b[0m\u001b[0;34m(\u001b[0m\u001b[0;34m)\u001b[0m\u001b[0;34m]\u001b[0m \u001b[0;34m)\u001b[0m   \u001b[0;31m#<-- give each bot an initial player to start with\u001b[0m\u001b[0;34m\u001b[0m\u001b[0m\n\u001b[1;32m      6\u001b[0m \u001b[0;34m\u001b[0m\u001b[0m\n",
      "\u001b[0;31mNameError\u001b[0m: name 'max_tree_depth' is not defined"
     ]
    }
   ],
   "source": [
    "bots = []\n",
    "idx = []\n",
    "for i in range(num_bots):\n",
    "    bots.append( Game(max_tree_depth) )         #<--  initialize the bots\n",
    "    idx.append( [indices.pop()] )   #<-- give each bot an initial player to start with\n",
    "    \n",
    "    # Update bot i's tree according to it randomely assigned initial player\n",
    "    moves = movesPlayer[ players[idx[i][-1]][1] ]    \n",
    "    for gameMoves in moves:\n",
    "        bots[i].doGame( gameMoves ) "
   ]
  },
  {
   "cell_type": "markdown",
   "metadata": {},
   "source": [
    "for the next few indexes decide which group to put the player in based on the game scores"
   ]
  },
  {
   "cell_type": "markdown",
   "metadata": {},
   "source": [
    "We then update each group based on hte new games it contains."
   ]
  },
  {
   "cell_type": "code",
   "execution_count": 84,
   "metadata": {
    "code_folding": []
   },
   "outputs": [
    {
     "name": "stdout",
     "output_type": "stream",
     "text": [
      "0 1 2 3 4 5 6 7 8 9 10 11 12 13 14 15 16 17 18 19 20 21 22 23 24 25 26 27 28 29 "
     ]
    }
   ],
   "source": [
    "# Warning: this cell has a long run time (5 min) \n",
    "'''\n",
    "batch_size = 30\n",
    "min_scores_gap = 2\n",
    "\n",
    "for i in range(batch_size):\n",
    "    \n",
    "    if len(indices) == 0:\n",
    "        print;print  \"ran out of indices!\";print;\n",
    "        if len(toClose) > 100: \n",
    "            indices = toClose\n",
    "    \n",
    "    sys.stdout.write(str(i)+\" \")\n",
    "    \n",
    "    idx_player = indices.pop()\n",
    "    scores = testPlayer(idx_player, bots)\n",
    "\n",
    "    if abs(min(scores)-max(scores)) < min_scores_gap :\n",
    "        toClose.append( idx_player ) # print \"games reached same score!\"\n",
    "    else:\n",
    "        idx_bot = np.argmin(scores)  #<-- that bot that cuased the player to have the lowest score\n",
    "        idx[ idx_bot ].append( idx_player )\n",
    "\n",
    "        # we now update the bots tree based on the newly added player\n",
    "        moves = movesPlayer[ players[idx_player][1] ]\n",
    "        for gameMoves in moves:\n",
    "            bots[idx_bot].doGame(gameMoves)\n",
    "'''\n"
   ]
  },
  {
   "cell_type": "markdown",
   "metadata": {},
   "source": [
    "So far the trees seem to always converge if we try to grop by players, lets try grouping by games instead."
   ]
  },
  {
   "cell_type": "markdown",
   "metadata": {},
   "source": [
    "## Building Groups by Games"
   ]
  },
  {
   "cell_type": "markdown",
   "metadata": {},
   "source": [
    "First we create a shuffled array of all game indexes"
   ]
  },
  {
   "cell_type": "code",
   "execution_count": 137,
   "metadata": {
    "code_folding": [],
    "collapsed": true
   },
   "outputs": [],
   "source": [
    "# we get all the games into 1 list\n",
    "games = []                     \n",
    "for name, idx_games in players:\n",
    "    games = games + idx_games.tolist()\n",
    "    \n",
    "# then we shuffle them up\n",
    "np.random.seed(1)\n",
    "np.random.shuffle(games)"
   ]
  },
  {
   "cell_type": "markdown",
   "metadata": {},
   "source": [
    "create unique Game classes and have them each start with a different usere's moves"
   ]
  },
  {
   "cell_type": "code",
   "execution_count": 138,
   "metadata": {
    "collapsed": true
   },
   "outputs": [],
   "source": [
    "num_bots = 6\n",
    "max_tree_depth = 100\n",
    "toClose = []  #<-- an array where we put all the players whose game's are to close to assigne to a specific bot"
   ]
  },
  {
   "cell_type": "code",
   "execution_count": 139,
   "metadata": {
    "collapsed": true
   },
   "outputs": [],
   "source": [
    "bots = []\n",
    "idx = []\n",
    "for i in range(num_bots):\n",
    "    bots.append( Game(max_tree_depth) )         #<--  initialize the bots\n",
    "    idx.append( [games.pop()] )   #<-- give each bot an initial game to start with\n",
    "    \n",
    "    # Update bot i's tree according to it randomely assigned initial player\n",
    "    gameMoves = movesPlayer[ idx[i][-1] ]    \n",
    "    bots[i].doGame( gameMoves ) "
   ]
  },
  {
   "cell_type": "markdown",
   "metadata": {
    "collapsed": true
   },
   "source": [
    "for the next game we decide which group to put it in based on the scores"
   ]
  },
  {
   "cell_type": "markdown",
   "metadata": {
    "collapsed": true
   },
   "source": [
    "We then update each group based on hte new games it contains."
   ]
  },
  {
   "cell_type": "code",
   "execution_count": null,
   "metadata": {
    "collapsed": true
   },
   "outputs": [],
   "source": [
    "batch_size = 300\n",
    "min_scores_gap = 2\n",
    "\n",
    "while( len(games) != 1):\n",
    "    \n",
    "    #if len(indices) == 0:\n",
    "    #    print;print  \"ran out of indices!\";print;\n",
    "    #    if len(toClose) > 100: \n",
    "    #       indices = toClose\n",
    "    \n",
    "    #sys.stdout.write(str(i)+\" \")\n",
    "    \n",
    "    game_idx = games.pop() \n",
    "    gameMoves = movesPlayer[ game_idx ]    \n",
    "    scores = testGame( game_idx, bots )\n",
    "\n",
    "    if abs(min(scores)-max(scores)) < min_scores_gap :\n",
    "        toClose.append( game_idx ) # print \"games reached same score!\"\n",
    "    else:\n",
    "        idx_bot = np.argmin(scores)  #<-- that bot that cuased the player to have the lowest score\n",
    "        idx[ idx_bot ].append( game_idx )\n",
    "        bots[idx_bot].doGame(gameMoves) #<-- update the bots tree based on the newly added game\n"
   ]
  },
  {
   "cell_type": "code",
   "execution_count": 119,
   "metadata": {
    "collapsed": true
   },
   "outputs": [],
   "source": [
    "idx = []\n",
    "idx.append(2)"
   ]
  },
  {
   "cell_type": "code",
   "execution_count": 120,
   "metadata": {},
   "outputs": [
    {
     "data": {
      "text/plain": [
       "[2]"
      ]
     },
     "execution_count": 120,
     "metadata": {},
     "output_type": "execute_result"
    }
   ],
   "source": [
    "idx"
   ]
  },
  {
   "cell_type": "code",
   "execution_count": 134,
   "metadata": {},
   "outputs": [
    {
     "data": {
      "text/plain": [
       "298"
      ]
     },
     "execution_count": 134,
     "metadata": {},
     "output_type": "execute_result"
    }
   ],
   "source": [
    "len(toClose)"
   ]
  },
  {
   "cell_type": "code",
   "execution_count": 136,
   "metadata": {},
   "outputs": [
    {
     "name": "stdout",
     "output_type": "stream",
     "text": [
      "157\n",
      "139\n",
      "9\n"
     ]
    }
   ],
   "source": [
    "for i in idx:\n",
    "    print games"
   ]
  },
  {
   "cell_type": "code",
   "execution_count": 141,
   "metadata": {},
   "outputs": [
    {
     "data": {
      "text/plain": [
       "1542"
      ]
     },
     "execution_count": 141,
     "metadata": {},
     "output_type": "execute_result"
    }
   ],
   "source": [
    "len(games)"
   ]
  },
  {
   "cell_type": "code",
   "execution_count": 142,
   "metadata": {},
   "outputs": [
    {
     "data": {
      "text/plain": [
       "796"
      ]
     },
     "execution_count": 142,
     "metadata": {},
     "output_type": "execute_result"
    }
   ],
   "source": [
    "len(toClose)"
   ]
  },
  {
   "cell_type": "code",
   "execution_count": 143,
   "metadata": {},
   "outputs": [
    {
     "name": "stdout",
     "output_type": "stream",
     "text": [
      "458\n",
      "387\n",
      "1\n",
      "1\n",
      "2\n",
      "3\n"
     ]
    }
   ],
   "source": [
    "for i in idx:\n",
    "    print len(i)"
   ]
  },
  {
   "cell_type": "code",
   "execution_count": null,
   "metadata": {
    "collapsed": true
   },
   "outputs": [],
   "source": [
    "len(games)"
   ]
  },
  {
   "cell_type": "code",
   "execution_count": null,
   "metadata": {
    "collapsed": true
   },
   "outputs": [],
   "source": []
  }
 ],
 "metadata": {
  "celltoolbar": "Initialization Cell",
  "kernelspec": {
   "display_name": "Python 2",
   "language": "python",
   "name": "python2"
  },
  "language_info": {
   "codemirror_mode": {
    "name": "ipython",
    "version": 2
   },
   "file_extension": ".py",
   "mimetype": "text/x-python",
   "name": "python",
   "nbconvert_exporter": "python",
   "pygments_lexer": "ipython2",
   "version": "2.7.9"
  },
  "toc": {
   "nav_menu": {},
   "number_sections": true,
   "sideBar": true,
   "skip_h1_title": false,
   "toc_cell": false,
   "toc_position": {},
   "toc_section_display": "block",
   "toc_window_display": false
  },
  "varInspector": {
   "cols": {
    "lenName": 16,
    "lenType": 16,
    "lenVar": 40
   },
   "kernels_config": {
    "python": {
     "delete_cmd_postfix": "",
     "delete_cmd_prefix": "del ",
     "library": "var_list.py",
     "varRefreshCmd": "print(var_dic_list())"
    },
    "r": {
     "delete_cmd_postfix": ") ",
     "delete_cmd_prefix": "rm(",
     "library": "var_list.r",
     "varRefreshCmd": "cat(var_dic_list()) "
    }
   },
   "oldHeight": 122,
   "position": {
    "height": "370px",
    "left": "1px",
    "right": "20px",
    "top": "148px",
    "width": "525px"
   },
   "types_to_exclude": [
    "module",
    "function",
    "builtin_function_or_method",
    "instance",
    "_Feature"
   ],
   "varInspector_section_display": "block",
   "window_display": false
  }
 },
 "nbformat": 4,
 "nbformat_minor": 2
}
