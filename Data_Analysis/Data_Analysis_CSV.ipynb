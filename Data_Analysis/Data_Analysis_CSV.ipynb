{
 "cells": [
  {
   "cell_type": "markdown",
   "metadata": {
    "hide_input": false
   },
   "source": [
    "<font size=25px><tt><b>Data Analysis: CSV File</b></tt></font>"
   ]
  },
  {
   "cell_type": "markdown",
   "metadata": {},
   "source": [
    "* In this file we analyze data from the file data_cleanest.csv\n",
    "* The data consists of a cleaned up version of all the mindreader games that were played from an old launch."
   ]
  },
  {
   "cell_type": "markdown",
   "metadata": {
    "heading_collapsed": true
   },
   "source": [
    "# Setup Dataset"
   ]
  },
  {
   "cell_type": "markdown",
   "metadata": {
    "hidden": true
   },
   "source": [
    "## Import Stuff"
   ]
  },
  {
   "cell_type": "markdown",
   "metadata": {
    "hidden": true
   },
   "source": [
    "* we install all necessary packages:"
   ]
  },
  {
   "cell_type": "code",
   "execution_count": 27,
   "metadata": {
    "code_folding": [],
    "collapsed": true,
    "hidden": true,
    "hide_input": false,
    "init_cell": true
   },
   "outputs": [],
   "source": [
    "import numpy as np\n",
    "import scipy as sp\n",
    "import pandas as pd\n",
    "from py_mini_racer import py_mini_racer\n",
    "%matplotlib inline"
   ]
  },
  {
   "cell_type": "markdown",
   "metadata": {
    "collapsed": true,
    "hidden": true
   },
   "source": [
    "* we load in data as pandas dataframe:"
   ]
  },
  {
   "cell_type": "code",
   "execution_count": 28,
   "metadata": {
    "collapsed": true,
    "hidden": true,
    "hide_input": false,
    "init_cell": true
   },
   "outputs": [],
   "source": [
    "data = pd.read_csv(\"data_clean.csv\")"
   ]
  },
  {
   "cell_type": "markdown",
   "metadata": {
    "heading_collapsed": true,
    "hidden": true
   },
   "source": [
    "## Fast Data Summary"
   ]
  },
  {
   "cell_type": "code",
   "execution_count": 31,
   "metadata": {
    "hidden": true,
    "hide_input": false,
    "init_cell": true
   },
   "outputs": [
    {
     "data": {
      "text/html": [
       "<div>\n",
       "<style scoped>\n",
       "    .dataframe tbody tr th:only-of-type {\n",
       "        vertical-align: middle;\n",
       "    }\n",
       "\n",
       "    .dataframe tbody tr th {\n",
       "        vertical-align: top;\n",
       "    }\n",
       "\n",
       "    .dataframe thead th {\n",
       "        text-align: right;\n",
       "    }\n",
       "</style>\n",
       "<table border=\"1\" class=\"dataframe\">\n",
       "  <thead>\n",
       "    <tr style=\"text-align: right;\">\n",
       "      <th></th>\n",
       "      <th>date</th>\n",
       "      <th>mode</th>\n",
       "      <th>experts</th>\n",
       "      <th>username</th>\n",
       "      <th>result</th>\n",
       "      <th>score</th>\n",
       "      <th>ip</th>\n",
       "      <th>movesPlayer</th>\n",
       "      <th>movesComp</th>\n",
       "      <th>times</th>\n",
       "      <th>totMoves</th>\n",
       "      <th>totTime</th>\n",
       "      <th>avgTime</th>\n",
       "    </tr>\n",
       "  </thead>\n",
       "  <tbody>\n",
       "    <tr>\n",
       "      <th>0</th>\n",
       "      <td>0</td>\n",
       "      <td>original</td>\n",
       "      <td>[u'varTreePY', u'varTreeY']</td>\n",
       "      <td>anonymous</td>\n",
       "      <td>Restart</td>\n",
       "      <td>-6</td>\n",
       "      <td>208.54.39.129</td>\n",
       "      <td>[1L, 0L, 1L, 0L, 1L, 1L, 0L, 1L, 0L, 0L, 1L, 0...</td>\n",
       "      <td>[1L, 1L, 1L, 0L, 1L, 0L, 0L, 1L, 0L, 1L, 1L, 0...</td>\n",
       "      <td>[1453330325603L, 1453330325828L, 1453330326038...</td>\n",
       "      <td>20</td>\n",
       "      <td>282.86</td>\n",
       "      <td>14.143000</td>\n",
       "    </tr>\n",
       "    <tr>\n",
       "      <th>1</th>\n",
       "      <td>0</td>\n",
       "      <td>original</td>\n",
       "      <td>[u'varTreePY', u'varTreeY']</td>\n",
       "      <td>elaaaaaaaaaaa</td>\n",
       "      <td>Restart</td>\n",
       "      <td>-24</td>\n",
       "      <td>209.2.221.197</td>\n",
       "      <td>[1L, 1L, 1L, 1L, 0L, 1L, 1L, 0L, 0L, 0L, 0L, 0...</td>\n",
       "      <td>[1L, 0L, 1L, 0L, 1L, 0L, 0L, 0L, 0L, 0L, 1L, 1...</td>\n",
       "      <td>[1453337692341L, 1453337699155L, 1453337710785...</td>\n",
       "      <td>58</td>\n",
       "      <td>877.56</td>\n",
       "      <td>15.130345</td>\n",
       "    </tr>\n",
       "    <tr>\n",
       "      <th>2</th>\n",
       "      <td>0</td>\n",
       "      <td>original</td>\n",
       "      <td>[u'varTreePY', u'varTreeY']</td>\n",
       "      <td>adasdasdasdasdasd</td>\n",
       "      <td>Restart</td>\n",
       "      <td>-16</td>\n",
       "      <td>209.2.221.197</td>\n",
       "      <td>[1L, 0L, 0L, 0L, 0L, 0L, 0L, 0L, 0L, 0L, 0L, 0...</td>\n",
       "      <td>[0L, 0L, 0L, 0L, 1L, 0L, 0L, 0L, 0L, 0L, 0L, 0...</td>\n",
       "      <td>[1453337970979L, 1453337972428L, 1453337976487...</td>\n",
       "      <td>20</td>\n",
       "      <td>88.87</td>\n",
       "      <td>4.443500</td>\n",
       "    </tr>\n",
       "    <tr>\n",
       "      <th>3</th>\n",
       "      <td>0</td>\n",
       "      <td>original</td>\n",
       "      <td>[u'varTreePY', u'varTreeY']</td>\n",
       "      <td>aosdkoakdoakdoaskd</td>\n",
       "      <td>Restart</td>\n",
       "      <td>-2</td>\n",
       "      <td>209.2.221.197</td>\n",
       "      <td>[1L, 0L, 0L, 0L]</td>\n",
       "      <td>[0L, 0L, 0L, 0L]</td>\n",
       "      <td>[1453339729701L, 1453339732436L, 1453339735087...</td>\n",
       "      <td>4</td>\n",
       "      <td>64.74</td>\n",
       "      <td>16.185000</td>\n",
       "    </tr>\n",
       "    <tr>\n",
       "      <th>4</th>\n",
       "      <td>0</td>\n",
       "      <td>original</td>\n",
       "      <td>[u'varTreePY', u'varTreeY']</td>\n",
       "      <td>anonymous</td>\n",
       "      <td>Restart</td>\n",
       "      <td>1</td>\n",
       "      <td>209.2.221.197</td>\n",
       "      <td>[3L]</td>\n",
       "      <td>[3L]</td>\n",
       "      <td>[1453339751744L]</td>\n",
       "      <td>1</td>\n",
       "      <td>0.00</td>\n",
       "      <td>0.000000</td>\n",
       "    </tr>\n",
       "  </tbody>\n",
       "</table>\n",
       "</div>"
      ],
      "text/plain": [
       "  date      mode                      experts            username   result  \\\n",
       "0    0  original  [u'varTreePY', u'varTreeY']           anonymous  Restart   \n",
       "1    0  original  [u'varTreePY', u'varTreeY']       elaaaaaaaaaaa  Restart   \n",
       "2    0  original  [u'varTreePY', u'varTreeY']   adasdasdasdasdasd  Restart   \n",
       "3    0  original  [u'varTreePY', u'varTreeY']  aosdkoakdoakdoaskd  Restart   \n",
       "4    0  original  [u'varTreePY', u'varTreeY']           anonymous  Restart   \n",
       "\n",
       "   score             ip                                        movesPlayer  \\\n",
       "0     -6  208.54.39.129  [1L, 0L, 1L, 0L, 1L, 1L, 0L, 1L, 0L, 0L, 1L, 0...   \n",
       "1    -24  209.2.221.197  [1L, 1L, 1L, 1L, 0L, 1L, 1L, 0L, 0L, 0L, 0L, 0...   \n",
       "2    -16  209.2.221.197  [1L, 0L, 0L, 0L, 0L, 0L, 0L, 0L, 0L, 0L, 0L, 0...   \n",
       "3     -2  209.2.221.197                                   [1L, 0L, 0L, 0L]   \n",
       "4      1  209.2.221.197                                               [3L]   \n",
       "\n",
       "                                           movesComp  \\\n",
       "0  [1L, 1L, 1L, 0L, 1L, 0L, 0L, 1L, 0L, 1L, 1L, 0...   \n",
       "1  [1L, 0L, 1L, 0L, 1L, 0L, 0L, 0L, 0L, 0L, 1L, 1...   \n",
       "2  [0L, 0L, 0L, 0L, 1L, 0L, 0L, 0L, 0L, 0L, 0L, 0...   \n",
       "3                                   [0L, 0L, 0L, 0L]   \n",
       "4                                               [3L]   \n",
       "\n",
       "                                               times  totMoves  totTime  \\\n",
       "0  [1453330325603L, 1453330325828L, 1453330326038...        20   282.86   \n",
       "1  [1453337692341L, 1453337699155L, 1453337710785...        58   877.56   \n",
       "2  [1453337970979L, 1453337972428L, 1453337976487...        20    88.87   \n",
       "3  [1453339729701L, 1453339732436L, 1453339735087...         4    64.74   \n",
       "4                                   [1453339751744L]         1     0.00   \n",
       "\n",
       "     avgTime  \n",
       "0  14.143000  \n",
       "1  15.130345  \n",
       "2   4.443500  \n",
       "3  16.185000  \n",
       "4   0.000000  "
      ]
     },
     "execution_count": 31,
     "metadata": {},
     "output_type": "execute_result"
    }
   ],
   "source": [
    "data.head()"
   ]
  },
  {
   "cell_type": "code",
   "execution_count": 29,
   "metadata": {
    "hidden": true,
    "init_cell": true
   },
   "outputs": [
    {
     "name": "stdout",
     "output_type": "stream",
     "text": [
      "['date' 'mode' 'experts' 'username' 'result' 'score' 'ip' 'movesPlayer'\n",
      " 'movesComp' 'times' 'totMoves' 'totTime' 'avgTime']\n"
     ]
    }
   ],
   "source": [
    "print data.columns.values"
   ]
  },
  {
   "cell_type": "code",
   "execution_count": 30,
   "metadata": {
    "hidden": true,
    "init_cell": true
   },
   "outputs": [
    {
     "data": {
      "text/plain": [
       "(7925, 13)"
      ]
     },
     "execution_count": 30,
     "metadata": {},
     "output_type": "execute_result"
    }
   ],
   "source": [
    "data.shape"
   ]
  },
  {
   "cell_type": "code",
   "execution_count": 32,
   "metadata": {
    "hidden": true,
    "init_cell": true,
    "scrolled": false
   },
   "outputs": [
    {
     "data": {
      "text/html": [
       "<div>\n",
       "<style scoped>\n",
       "    .dataframe tbody tr th:only-of-type {\n",
       "        vertical-align: middle;\n",
       "    }\n",
       "\n",
       "    .dataframe tbody tr th {\n",
       "        vertical-align: top;\n",
       "    }\n",
       "\n",
       "    .dataframe thead th {\n",
       "        text-align: right;\n",
       "    }\n",
       "</style>\n",
       "<table border=\"1\" class=\"dataframe\">\n",
       "  <thead>\n",
       "    <tr style=\"text-align: right;\">\n",
       "      <th></th>\n",
       "      <th>score</th>\n",
       "      <th>totMoves</th>\n",
       "      <th>totTime</th>\n",
       "      <th>avgTime</th>\n",
       "    </tr>\n",
       "  </thead>\n",
       "  <tbody>\n",
       "    <tr>\n",
       "      <th>count</th>\n",
       "      <td>7925.000000</td>\n",
       "      <td>7925.000000</td>\n",
       "      <td>7925.000000</td>\n",
       "      <td>7925.000000</td>\n",
       "    </tr>\n",
       "    <tr>\n",
       "      <th>mean</th>\n",
       "      <td>-19.809338</td>\n",
       "      <td>116.595205</td>\n",
       "      <td>138.172433</td>\n",
       "      <td>1.433386</td>\n",
       "    </tr>\n",
       "    <tr>\n",
       "      <th>std</th>\n",
       "      <td>26.065359</td>\n",
       "      <td>72.524059</td>\n",
       "      <td>397.627805</td>\n",
       "      <td>3.609651</td>\n",
       "    </tr>\n",
       "    <tr>\n",
       "      <th>min</th>\n",
       "      <td>-100.000000</td>\n",
       "      <td>1.000000</td>\n",
       "      <td>0.000000</td>\n",
       "      <td>0.000000</td>\n",
       "    </tr>\n",
       "    <tr>\n",
       "      <th>25%</th>\n",
       "      <td>-34.000000</td>\n",
       "      <td>35.000000</td>\n",
       "      <td>15.650000</td>\n",
       "      <td>0.172759</td>\n",
       "    </tr>\n",
       "    <tr>\n",
       "      <th>50%</th>\n",
       "      <td>-13.000000</td>\n",
       "      <td>146.000000</td>\n",
       "      <td>32.580000</td>\n",
       "      <td>0.331250</td>\n",
       "    </tr>\n",
       "    <tr>\n",
       "      <th>75%</th>\n",
       "      <td>0.000000</td>\n",
       "      <td>181.000000</td>\n",
       "      <td>64.970000</td>\n",
       "      <td>0.749189</td>\n",
       "    </tr>\n",
       "    <tr>\n",
       "      <th>max</th>\n",
       "      <td>39.000000</td>\n",
       "      <td>199.000000</td>\n",
       "      <td>3976.590000</td>\n",
       "      <td>48.830714</td>\n",
       "    </tr>\n",
       "  </tbody>\n",
       "</table>\n",
       "</div>"
      ],
      "text/plain": [
       "             score     totMoves      totTime      avgTime\n",
       "count  7925.000000  7925.000000  7925.000000  7925.000000\n",
       "mean    -19.809338   116.595205   138.172433     1.433386\n",
       "std      26.065359    72.524059   397.627805     3.609651\n",
       "min    -100.000000     1.000000     0.000000     0.000000\n",
       "25%     -34.000000    35.000000    15.650000     0.172759\n",
       "50%     -13.000000   146.000000    32.580000     0.331250\n",
       "75%       0.000000   181.000000    64.970000     0.749189\n",
       "max      39.000000   199.000000  3976.590000    48.830714"
      ]
     },
     "execution_count": 32,
     "metadata": {},
     "output_type": "execute_result"
    }
   ],
   "source": [
    "data.describe()"
   ]
  },
  {
   "cell_type": "markdown",
   "metadata": {
    "heading_collapsed": true,
    "hidden": true
   },
   "source": [
    "## Create Lists of Moves and Times"
   ]
  },
  {
   "cell_type": "markdown",
   "metadata": {
    "hidden": true
   },
   "source": [
    "<font color=\"blue\">stringToList</font> is a function that converts the strings of numbers from the dataset into lists.\n",
    "\n",
    "\n",
    "This is used for <b>movesPlayer, movesComp, and times</b>"
   ]
  },
  {
   "cell_type": "code",
   "execution_count": 33,
   "metadata": {
    "code_folding": [],
    "collapsed": true,
    "hidden": true,
    "hide_input": false,
    "init_cell": true
   },
   "outputs": [],
   "source": [
    "def stringToList(x):\n",
    "    xList = x[1:-2].split(\"L, \")\n",
    "    return np.array(xList, dtype=np.int) #<-- return numpy list of integers\n",
    "\n",
    "def columnToList(column):\n",
    "    out = []\n",
    "    for x in column:\n",
    "        out.append( stringToList(x) )\n",
    "    return out\n"
   ]
  },
  {
   "cell_type": "code",
   "execution_count": 34,
   "metadata": {
    "collapsed": true,
    "hidden": true,
    "hide_input": true,
    "init_cell": true
   },
   "outputs": [],
   "source": [
    "movesPlayer = columnToList( data[\"movesPlayer\"].values )\n",
    "movesComp = columnToList( data[\"movesComp\"].values )\n",
    "times = columnToList( data[\"times\"].values )"
   ]
  },
  {
   "cell_type": "markdown",
   "metadata": {
    "hidden": true
   },
   "source": [
    "Add <font color=\"blue\" >numMoves</font> to the dataframe <font color=\"blue\" >data</font>.\n",
    "\n",
    "<font color=\"blue\">numMoves : </font> the number of moves for each game"
   ]
  },
  {
   "cell_type": "code",
   "execution_count": 35,
   "metadata": {
    "collapsed": true,
    "hidden": true,
    "init_cell": true
   },
   "outputs": [],
   "source": [
    "numMoves = np.array( [ len(x) for x in movesPlayer ] )\n",
    "data[\"numMoves\"] = numMoves"
   ]
  },
  {
   "cell_type": "markdown",
   "metadata": {
    "hidden": true
   },
   "source": [
    "we see that <font color=\"blue\" >numMoves</font> has been added to the dataframe. <font color=\"gray\">You may have to scroll right to see the entire dataframe.</font>"
   ]
  },
  {
   "cell_type": "code",
   "execution_count": 36,
   "metadata": {
    "hidden": true,
    "init_cell": true
   },
   "outputs": [
    {
     "data": {
      "text/html": [
       "<div>\n",
       "<style scoped>\n",
       "    .dataframe tbody tr th:only-of-type {\n",
       "        vertical-align: middle;\n",
       "    }\n",
       "\n",
       "    .dataframe tbody tr th {\n",
       "        vertical-align: top;\n",
       "    }\n",
       "\n",
       "    .dataframe thead th {\n",
       "        text-align: right;\n",
       "    }\n",
       "</style>\n",
       "<table border=\"1\" class=\"dataframe\">\n",
       "  <thead>\n",
       "    <tr style=\"text-align: right;\">\n",
       "      <th></th>\n",
       "      <th>date</th>\n",
       "      <th>mode</th>\n",
       "      <th>experts</th>\n",
       "      <th>username</th>\n",
       "      <th>result</th>\n",
       "      <th>score</th>\n",
       "      <th>ip</th>\n",
       "      <th>movesPlayer</th>\n",
       "      <th>movesComp</th>\n",
       "      <th>times</th>\n",
       "      <th>totMoves</th>\n",
       "      <th>totTime</th>\n",
       "      <th>avgTime</th>\n",
       "      <th>numMoves</th>\n",
       "    </tr>\n",
       "  </thead>\n",
       "  <tbody>\n",
       "    <tr>\n",
       "      <th>0</th>\n",
       "      <td>0</td>\n",
       "      <td>original</td>\n",
       "      <td>[u'varTreePY', u'varTreeY']</td>\n",
       "      <td>anonymous</td>\n",
       "      <td>Restart</td>\n",
       "      <td>-6</td>\n",
       "      <td>208.54.39.129</td>\n",
       "      <td>[1L, 0L, 1L, 0L, 1L, 1L, 0L, 1L, 0L, 0L, 1L, 0...</td>\n",
       "      <td>[1L, 1L, 1L, 0L, 1L, 0L, 0L, 1L, 0L, 1L, 1L, 0...</td>\n",
       "      <td>[1453330325603L, 1453330325828L, 1453330326038...</td>\n",
       "      <td>20</td>\n",
       "      <td>282.86</td>\n",
       "      <td>14.143000</td>\n",
       "      <td>20</td>\n",
       "    </tr>\n",
       "    <tr>\n",
       "      <th>1</th>\n",
       "      <td>0</td>\n",
       "      <td>original</td>\n",
       "      <td>[u'varTreePY', u'varTreeY']</td>\n",
       "      <td>elaaaaaaaaaaa</td>\n",
       "      <td>Restart</td>\n",
       "      <td>-24</td>\n",
       "      <td>209.2.221.197</td>\n",
       "      <td>[1L, 1L, 1L, 1L, 0L, 1L, 1L, 0L, 0L, 0L, 0L, 0...</td>\n",
       "      <td>[1L, 0L, 1L, 0L, 1L, 0L, 0L, 0L, 0L, 0L, 1L, 1...</td>\n",
       "      <td>[1453337692341L, 1453337699155L, 1453337710785...</td>\n",
       "      <td>58</td>\n",
       "      <td>877.56</td>\n",
       "      <td>15.130345</td>\n",
       "      <td>58</td>\n",
       "    </tr>\n",
       "    <tr>\n",
       "      <th>2</th>\n",
       "      <td>0</td>\n",
       "      <td>original</td>\n",
       "      <td>[u'varTreePY', u'varTreeY']</td>\n",
       "      <td>adasdasdasdasdasd</td>\n",
       "      <td>Restart</td>\n",
       "      <td>-16</td>\n",
       "      <td>209.2.221.197</td>\n",
       "      <td>[1L, 0L, 0L, 0L, 0L, 0L, 0L, 0L, 0L, 0L, 0L, 0...</td>\n",
       "      <td>[0L, 0L, 0L, 0L, 1L, 0L, 0L, 0L, 0L, 0L, 0L, 0...</td>\n",
       "      <td>[1453337970979L, 1453337972428L, 1453337976487...</td>\n",
       "      <td>20</td>\n",
       "      <td>88.87</td>\n",
       "      <td>4.443500</td>\n",
       "      <td>20</td>\n",
       "    </tr>\n",
       "    <tr>\n",
       "      <th>3</th>\n",
       "      <td>0</td>\n",
       "      <td>original</td>\n",
       "      <td>[u'varTreePY', u'varTreeY']</td>\n",
       "      <td>aosdkoakdoakdoaskd</td>\n",
       "      <td>Restart</td>\n",
       "      <td>-2</td>\n",
       "      <td>209.2.221.197</td>\n",
       "      <td>[1L, 0L, 0L, 0L]</td>\n",
       "      <td>[0L, 0L, 0L, 0L]</td>\n",
       "      <td>[1453339729701L, 1453339732436L, 1453339735087...</td>\n",
       "      <td>4</td>\n",
       "      <td>64.74</td>\n",
       "      <td>16.185000</td>\n",
       "      <td>4</td>\n",
       "    </tr>\n",
       "    <tr>\n",
       "      <th>4</th>\n",
       "      <td>0</td>\n",
       "      <td>original</td>\n",
       "      <td>[u'varTreePY', u'varTreeY']</td>\n",
       "      <td>anonymous</td>\n",
       "      <td>Restart</td>\n",
       "      <td>1</td>\n",
       "      <td>209.2.221.197</td>\n",
       "      <td>[3L]</td>\n",
       "      <td>[3L]</td>\n",
       "      <td>[1453339751744L]</td>\n",
       "      <td>1</td>\n",
       "      <td>0.00</td>\n",
       "      <td>0.000000</td>\n",
       "      <td>1</td>\n",
       "    </tr>\n",
       "  </tbody>\n",
       "</table>\n",
       "</div>"
      ],
      "text/plain": [
       "  date      mode                      experts            username   result  \\\n",
       "0    0  original  [u'varTreePY', u'varTreeY']           anonymous  Restart   \n",
       "1    0  original  [u'varTreePY', u'varTreeY']       elaaaaaaaaaaa  Restart   \n",
       "2    0  original  [u'varTreePY', u'varTreeY']   adasdasdasdasdasd  Restart   \n",
       "3    0  original  [u'varTreePY', u'varTreeY']  aosdkoakdoakdoaskd  Restart   \n",
       "4    0  original  [u'varTreePY', u'varTreeY']           anonymous  Restart   \n",
       "\n",
       "   score             ip                                        movesPlayer  \\\n",
       "0     -6  208.54.39.129  [1L, 0L, 1L, 0L, 1L, 1L, 0L, 1L, 0L, 0L, 1L, 0...   \n",
       "1    -24  209.2.221.197  [1L, 1L, 1L, 1L, 0L, 1L, 1L, 0L, 0L, 0L, 0L, 0...   \n",
       "2    -16  209.2.221.197  [1L, 0L, 0L, 0L, 0L, 0L, 0L, 0L, 0L, 0L, 0L, 0...   \n",
       "3     -2  209.2.221.197                                   [1L, 0L, 0L, 0L]   \n",
       "4      1  209.2.221.197                                               [3L]   \n",
       "\n",
       "                                           movesComp  \\\n",
       "0  [1L, 1L, 1L, 0L, 1L, 0L, 0L, 1L, 0L, 1L, 1L, 0...   \n",
       "1  [1L, 0L, 1L, 0L, 1L, 0L, 0L, 0L, 0L, 0L, 1L, 1...   \n",
       "2  [0L, 0L, 0L, 0L, 1L, 0L, 0L, 0L, 0L, 0L, 0L, 0...   \n",
       "3                                   [0L, 0L, 0L, 0L]   \n",
       "4                                               [3L]   \n",
       "\n",
       "                                               times  totMoves  totTime  \\\n",
       "0  [1453330325603L, 1453330325828L, 1453330326038...        20   282.86   \n",
       "1  [1453337692341L, 1453337699155L, 1453337710785...        58   877.56   \n",
       "2  [1453337970979L, 1453337972428L, 1453337976487...        20    88.87   \n",
       "3  [1453339729701L, 1453339732436L, 1453339735087...         4    64.74   \n",
       "4                                   [1453339751744L]         1     0.00   \n",
       "\n",
       "     avgTime  numMoves  \n",
       "0  14.143000        20  \n",
       "1  15.130345        58  \n",
       "2   4.443500        20  \n",
       "3  16.185000         4  \n",
       "4   0.000000         1  "
      ]
     },
     "execution_count": 36,
     "metadata": {},
     "output_type": "execute_result"
    }
   ],
   "source": [
    "data.head()"
   ]
  },
  {
   "cell_type": "markdown",
   "metadata": {
    "heading_collapsed": true,
    "hidden": true
   },
   "source": [
    "## Group Indices by Username"
   ]
  },
  {
   "cell_type": "markdown",
   "metadata": {
    "hidden": true
   },
   "source": [
    "Creates the following:\n",
    "<font color=\"blue\">names_uni :</font> A list of all unique usernames\n",
    "<br>\n",
    "<font color=\"blue\">names_ind :</font> A list of np.arrays of all the indices for a given username <font color=\"gray\">(games listed in order of most moves)</font>"
   ]
  },
  {
   "cell_type": "code",
   "execution_count": 37,
   "metadata": {
    "code_folding": [],
    "collapsed": true,
    "hidden": true,
    "init_cell": true
   },
   "outputs": [],
   "source": [
    "names_uni = data.username.unique()\n",
    "\n",
    "names_ind = []\n",
    "for x in names_uni:\n",
    "    indi_unorder = np.where(data.username == x)[0]  \n",
    "    indi_order = indi_unorder[ np.argsort( numMoves[indi_unorder]  )]\n",
    "    names_ind.append( indi_order )"
   ]
  },
  {
   "cell_type": "markdown",
   "metadata": {
    "collapsed": true,
    "heading_collapsed": true
   },
   "source": [
    "# MindReader Game Class"
   ]
  },
  {
   "cell_type": "markdown",
   "metadata": {
    "hidden": true
   },
   "source": [
    "* We user the package <font color='magenta'>py_mini_racer</font> to run the MindReader algorithm. \n",
    "* We use this to run the learning algorithm on multiple games played by a singler user.\n",
    "* <font color=\"blue\">ctx</font> is our javascript interface\n",
    "* <font color=\"blue\">jsPath</font> is the path to the javascript files"
   ]
  },
  {
   "cell_type": "markdown",
   "metadata": {
    "hidden": true
   },
   "source": [
    "The class <font color=\"blue\">*Game*</font> can be use to create an instance of AI used for the MindReader.\n",
    "\n",
    "* On initialization you can specify the maximum depth of the context tree used by the algorithm.\n",
    "* By default Game( tree_depth=200 )\n",
    "* game.score will present the current score of the game.\n",
    "* game.update( player_move ) can be used to update the game. player_move must be 1 or 0 ."
   ]
  },
  {
   "cell_type": "code",
   "execution_count": 79,
   "metadata": {
    "code_folding": [],
    "collapsed": true,
    "hidden": true,
    "init_cell": true
   },
   "outputs": [],
   "source": [
    "class Game():\n",
    "    \n",
    "    # inialize a new \"game\", this starts up the learning algorithm used in MindReader\n",
    "    def __init__(self, tree_depth = 200):\n",
    "        # setup javascript api and paths to files\n",
    "        jsPath = \"/Documents/website/freunds-mind-reader/staticFiles/script/\"\n",
    "        jsFiles = [\"CtxTree.js\", \"TreeExperts.js\" ,\"Hedge.js\", \"AI.js\"]\n",
    "        self.ctx = py_mini_racer.MiniRacer()\n",
    "        \n",
    "        # run the necesarry javascript files\n",
    "        for i in jsFiles:\n",
    "            f = open(jsPath+i, 'r')\n",
    "            self.ctx.eval( f.read() )\n",
    "            f.close()\n",
    "        \n",
    "        self.ctx.eval( \"var ai = new AI(\"+str(tree_depth)+\");\" ) #<-- call game in javascript, set max tree depth\n",
    "        self.ctx.eval(\"var compMove = ai.start()\")    #<-- start game, set first output\n",
    "        self.score = 0                           #<-- keep track of the game's score\n",
    "    \n",
    "    # update the scrore and the learning algorithm\n",
    "    def update( self, playerMove ):\n",
    "        self.score += 1 if playerMove != self.ctx.eval(\"compMove\") else -1   #<-- update score\n",
    "        self.ctx.eval( \"compMove = ai.predict(compMove,\"+str(playerMove)+\");\" )\n",
    "        "
   ]
  },
  {
   "cell_type": "code",
   "execution_count": null,
   "metadata": {
    "collapsed": true,
    "hidden": true
   },
   "outputs": [],
   "source": []
  },
  {
   "cell_type": "code",
   "execution_count": null,
   "metadata": {
    "collapsed": true,
    "hidden": true
   },
   "outputs": [],
   "source": []
  },
  {
   "cell_type": "markdown",
   "metadata": {},
   "source": [
    "# Scratch Paper"
   ]
  },
  {
   "cell_type": "code",
   "execution_count": null,
   "metadata": {
    "collapsed": true
   },
   "outputs": [],
   "source": [
    "grouped = data.groupby(\"username\")"
   ]
  },
  {
   "cell_type": "code",
   "execution_count": null,
   "metadata": {
    "collapsed": true
   },
   "outputs": [],
   "source": [
    "np.where( np.array(grouped.groups.keys()) == \"Jojo\")"
   ]
  }
 ],
 "metadata": {
  "celltoolbar": "Initialization Cell",
  "kernelspec": {
   "display_name": "Python 2",
   "language": "python",
   "name": "python2"
  },
  "language_info": {
   "codemirror_mode": {
    "name": "ipython",
    "version": 2
   },
   "file_extension": ".py",
   "mimetype": "text/x-python",
   "name": "python",
   "nbconvert_exporter": "python",
   "pygments_lexer": "ipython2",
   "version": "2.7.9"
  },
  "toc": {
   "nav_menu": {},
   "number_sections": true,
   "sideBar": true,
   "skip_h1_title": false,
   "toc_cell": false,
   "toc_position": {},
   "toc_section_display": "block",
   "toc_window_display": false
  },
  "varInspector": {
   "cols": {
    "lenName": 16,
    "lenType": 16,
    "lenVar": 40
   },
   "kernels_config": {
    "python": {
     "delete_cmd_postfix": "",
     "delete_cmd_prefix": "del ",
     "library": "var_list.py",
     "varRefreshCmd": "print(var_dic_list())"
    },
    "r": {
     "delete_cmd_postfix": ") ",
     "delete_cmd_prefix": "rm(",
     "library": "var_list.r",
     "varRefreshCmd": "cat(var_dic_list()) "
    }
   },
   "oldHeight": 122,
   "position": {
    "height": "370px",
    "left": "1px",
    "right": "20px",
    "top": "148px",
    "width": "525px"
   },
   "types_to_exclude": [
    "module",
    "function",
    "builtin_function_or_method",
    "instance",
    "_Feature"
   ],
   "varInspector_section_display": "block",
   "window_display": false
  }
 },
 "nbformat": 4,
 "nbformat_minor": 2
}
